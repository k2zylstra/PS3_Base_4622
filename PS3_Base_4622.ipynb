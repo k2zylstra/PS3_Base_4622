{
 "cells": [
  {
   "cell_type": "markdown",
   "metadata": {},
   "source": [
    "# Problem Set 3 - Linear Regression, Logistic Regression, and Feature Engineering\n",
    "## CSCI 4622 - Spring 2022\n",
    "***\n",
    "**Name**: $<$insert name here$>$ \n",
    "***\n",
    "\n",
    "This assignment is due on Canvas by **11:59PM on March 14th**.\n",
    "\n",
    "Submit only this Jupyter notebook to Canvas with the name format `PS3_<yourname>.ipynb`. Do not compress it using tar, rar, zip, etc.\n",
    "Your solutions to analysis questions should be done in Markdown directly below the associated question. You can add a write-up markdown cell if it wasn't provided.\n",
    "\n",
    "Remember that you are encouraged to discuss the problems with your classmates and instructors, \n",
    "but **you must write all code and solutions on your own**, and list any people or sources consulted.\n",
    "The only exception to this rule is that you may copy code directly from your own solution to previous homeworks."
   ]
  },
  {
   "cell_type": "code",
   "execution_count": null,
   "metadata": {
    "pycharm": {
     "name": "#%%\n"
    }
   },
   "outputs": [],
   "source": [
    "import numpy as np\n",
    "import matplotlib.pyplot as plt\n",
    "import data\n",
    "import tests\n",
    "%matplotlib inline"
   ]
  },
  {
   "cell_type": "markdown",
   "metadata": {
    "deletable": false,
    "editable": false,
    "nbgrader": {
     "cell_type": "markdown",
     "checksum": "356678ef8709b903ff2492b746971dae",
     "grade": false,
     "grade_id": "linreg",
     "locked": true,
     "schema_version": 3,
     "solution": false,
     "task": false
    }
   },
   "source": [
    "## Problem 1: Linear Regression (40 points)\n",
    "For this problem we will be using the same HousePrices data from Problem Set 2, but for our linear regression implementations.\n",
    "\n",
    "First, we want to scale the prices to the $[0, 1]$ interval using `MinMaxScaler`. Given an array of values $X$, the scaling works as follows:\n",
    "\\begin{align}\n",
    "    X  \\leftarrow \\frac{X-min(X)}{max(X) - min(X)}\n",
    "\\end{align}\n",
    "\n",
    "For a 2-array (where the features are the columns), this is performed as a column-wise operation.\n",
    "\n",
    "As usual, $min(X)$ and $max(X)$ are computed on the training set.\n",
    "\n",
    "- 1.1.a **[3 points]** Complete `MinMaxScaler.fit` to compute and save the column-wise min and max.\n",
    "- 1.1.b **[2 points]** Complete `MinMaxScaler.transform` to apply the min-max scaling using the computed statistics."
   ]
  },
  {
   "cell_type": "code",
   "execution_count": null,
   "metadata": {
    "deletable": false,
    "nbgrader": {
     "cell_type": "code",
     "checksum": "b40a1fc1ab1011d6e7af08d0e2f6648f",
     "grade": true,
     "grade_id": "a11",
     "locked": false,
     "points": 5,
     "schema_version": 3,
     "solution": true,
     "task": false
    },
    "pycharm": {
     "name": "#%%\n"
    }
   },
   "outputs": [],
   "source": [
    "class MinMaxScaler:\n",
    "\n",
    "    def __init__(self):\n",
    "        self.min = None\n",
    "        self.max = None\n",
    "\n",
    "    def fit(self, X):\n",
    "        \"\"\"\n",
    "        Compute and save the features min and max of shape (num_features,)\n",
    "        (you can also save them with shape (1, num_features))\n",
    "        :param X: array of shape (num_samples, num_features)\n",
    "        :return: fitted scaler\n",
    "        \"\"\"\n",
    "        # Workspace 1.1.a\n",
    "        #BEGIN \n",
    "        # code here\n",
    "        #END\n",
    "        return self\n",
    "\n",
    "    def transform(self, X):\n",
    "        \"\"\"\n",
    "        Transform the given samples using the precomputed min and max\n",
    "        :param X: np.array of shape (num_samples, num_features)\n",
    "        :return: MinMax scaled X, of shape (num_samples, num_features)\n",
    "        \"\"\"\n",
    "        # Workspace 1.1.b\n",
    "        #BEGIN \n",
    "        # code here\n",
    "        #END\n",
    "\n",
    "    def fit_transform(self, X):\n",
    "        \"\"\"\n",
    "        Fit using X and then transform it. Useful when we need to scale jsut once.\n",
    "        \"\"\"\n",
    "        self.fit(X)\n",
    "        return self.transform(X)"
   ]
  },
  {
   "cell_type": "code",
   "execution_count": null,
   "metadata": {
    "pycharm": {
     "name": "#%%\n"
    }
   },
   "outputs": [],
   "source": [
    "house_prices = data.HousePrices()\n",
    "minmax_scaler = MinMaxScaler()\n",
    "# MinMax works on 2-d arrays, so we just need to parse the prices as a single column/feature\n",
    "# and then squeeze it back to 1-d array\n",
    "house_prices.y_train = minmax_scaler.fit_transform(house_prices.y_train[:, None])[:, 0]\n",
    "house_prices.y_test = minmax_scaler.transform(house_prices.y_test[:, None])[:, 0]\n",
    "plt.hist(house_prices.y_train, bins=40)\n",
    "plt.title(\"Scaled prices distribution\")\n",
    "plt.show()"
   ]
  },
  {
   "cell_type": "markdown",
   "metadata": {
    "deletable": false,
    "editable": false,
    "nbgrader": {
     "cell_type": "markdown",
     "checksum": "5e7cb554b15215601d27b613455232e0",
     "grade": false,
     "grade_id": "ridge",
     "locked": true,
     "schema_version": 3,
     "solution": false,
     "task": false
    },
    "pycharm": {
     "name": "#%% md\n"
    }
   },
   "source": [
    "We have seen that Ridge regression adds a regularization term to the least square using the L2 norm.\n",
    "The objective is then to minimize:\n",
    "\n",
    "\\begin{align}\n",
    "\\frac{1}{N}\\sum_{i=1}^{N} ||y_i-{\\mathbf w}^T x_i-b||^2 + \\alpha||w||^2\n",
    "\\end{align}\n",
    "\n",
    "where $\\mathbf w$ denotes the set of parameters for the linear regression model,\n",
    " $\\alpha$ is the trade-off regularization parameter, and $N$ the number of samples\n",
    "The intercept $b$ can also be included in $(x_i)_{i\\leq N}$ by appending a constant feature to the data."
   ]
  },
  {
   "cell_type": "markdown",
   "metadata": {
    "deletable": false,
    "editable": false,
    "nbgrader": {
     "cell_type": "markdown",
     "checksum": "20161d6847ffc04ad8fbbfda954da369",
     "grade": false,
     "grade_id": "q12",
     "locked": true,
     "schema_version": 3,
     "solution": false,
     "task": false
    },
    "pycharm": {
     "name": "#%% md\n"
    }
   },
   "source": [
    "To implement Ridge Regression, We'll use the solver from sklearn module `Ridge` ([read more](https://scikit-learn.org/stable/modules/generated/sklearn.linear_model.Ridge.html)).\n",
    "- 1.2 **[5 points]** Complete the `fit` and `evaluate` methods following the docstring description.\n",
    "\n",
    "Once you fit the linear model, you have to save the coefficients $\\mathbf w$ in `Ridge.coefficients` and the intercept `b` in `Ridge.intercept`."
   ]
  },
  {
   "cell_type": "code",
   "execution_count": null,
   "metadata": {
    "deletable": false,
    "nbgrader": {
     "cell_type": "code",
     "checksum": "7052e87e057dcfd7396c3b427abf96d6",
     "grade": true,
     "grade_id": "a12",
     "locked": false,
     "points": 5,
     "schema_version": 3,
     "solution": true,
     "task": false
    },
    "pycharm": {
     "name": "#%%\n"
    }
   },
   "outputs": [],
   "source": [
    "from sklearn import linear_model\n",
    "\n",
    "\n",
    "class Ridge:\n",
    "    def __init__(self, alpha):\n",
    "        \"\"\"\n",
    "        Parameters\n",
    "        ----------\n",
    "        alpha:  regularization parameter\n",
    "        \"\"\"\n",
    "        self.alpha = alpha  # regularization / penalty term for weights\n",
    "        self.coefficients = None  # Coefficients w\n",
    "        self.intercept = None  # Intercept b\n",
    "        self._model = linear_model.Ridge(self.alpha, fit_intercept=True)  #using sklearn's implementation of Ridge # Regression\n",
    "\n",
    "    def fit(self, X, y):\n",
    "        \"\"\"\n",
    "        Fit the ridge model, train it using the provided data\n",
    "        Calculate the number of non-zero coefficients in the model weights.\n",
    "        :param X: training features (num_samples, n_features)\n",
    "        :param y: target values (num_samples)\n",
    "        :return: num_nonzero_coeff : number of non-zero coefficients in the model weights\n",
    "        \"\"\"\n",
    "\n",
    "        #Workspace 1.2.a\n",
    "        # num_nonzero_coeff = 0\n",
    "        #TODO:  Fit the Ridge model, save the coefficients and intercept and return number of non-zero coefficients\n",
    "        #BEGIN \n",
    "        # code here\n",
    "        #END\n",
    "        return num_nonzero_coeff\n",
    "\n",
    "    def evaluate(self, test_x, test_y):\n",
    "        \"\"\"\n",
    "        Compute Root Mean square error (RMSE) between test_y and the prediction from test_x\n",
    "        :param test_x: shape (num_samples, num_features)\n",
    "        :param test_y: shape (num_samples,)\n",
    "        :return: Float\n",
    "        \"\"\"\n",
    "        #Workspace 1.2.b\n",
    "        # mean_squared_error = 0\n",
    "        #TODO: predict based on the test features and return the mean_squared_error\n",
    "        #BEGIN \n",
    "        # code here\n",
    "        #END\n",
    "        return mean_squared_error\n",
    "\n",
    "    @staticmethod\n",
    "    def rmse(y_true, y_hat):\n",
    "        \"\"\"\n",
    "        Compute RMSE between two 1d-arrays\n",
    "        :param y_true: shape (num_samples,)\n",
    "        :param y_hat: (num_samples,)\n",
    "        :return: Float\n",
    "        \"\"\"\n",
    "        rmse = 0\n",
    "        #Workspace 1.2.c\n",
    "        #BEGIN \n",
    "        # code here\n",
    "        #END\n",
    "        return rmse"
   ]
  },
  {
   "cell_type": "code",
   "execution_count": null,
   "metadata": {},
   "outputs": [],
   "source": [
    "# Tests cell\n",
    "tests.test_ridge_coef(Ridge, normalize=None)\n",
    "tests.test_ridge_intercept(Ridge, normalize=None)\n",
    "tests.test_rmse(Ridge.rmse)"
   ]
  },
  {
   "cell_type": "markdown",
   "metadata": {
    "deletable": false,
    "editable": false,
    "nbgrader": {
     "cell_type": "markdown",
     "checksum": "d8de741a448acbdbb6885ff37e6079d3",
     "grade": false,
     "grade_id": "q13",
     "locked": true,
     "schema_version": 3,
     "solution": false,
     "task": false
    },
    "pycharm": {
     "name": "#%% md\n"
    }
   },
   "source": [
    "1.3 **[5 points]** On the House Prices dataset, produce 2 plots using `Ridge` :\n",
    "  - The number non-zero coefficients versus $\\log_{10}(\\alpha)$ (logarithmic scale in x-axis)\n",
    "  - Root Mean Squared Error (RMSE) on test set versus $\\log_{10}(\\alpha)$ (logarithmic scale in x-axis)\n",
    "\n",
    " Use the values of `alpha` provided below"
   ]
  },
  {
   "cell_type": "code",
   "execution_count": null,
   "metadata": {
    "deletable": false,
    "nbgrader": {
     "cell_type": "code",
     "checksum": "6e7eaba6a0d0f6b047e9dae319304e2b",
     "grade": true,
     "grade_id": "a13",
     "locked": false,
     "points": 5,
     "schema_version": 3,
     "solution": true,
     "task": false
    },
    "pycharm": {
     "name": "#%%\n"
    }
   },
   "outputs": [],
   "source": [
    "alphas = np.power(10, np.linspace(-1, 5.5, 15))\n",
    "# Workspace 1.3\n",
    "#BEGIN \n",
    "# code here\n",
    "#END"
   ]
  },
  {
   "cell_type": "markdown",
   "metadata": {
    "deletable": false,
    "editable": false,
    "nbgrader": {
     "cell_type": "markdown",
     "checksum": "b179b9533b1f07fae14e452fd7d8d012",
     "grade": false,
     "grade_id": "lasso",
     "locked": true,
     "schema_version": 3,
     "solution": false,
     "task": false
    }
   },
   "source": [
    "Now we'll move to Lasso regression. Lasso uses $l_1$ norm in the regularization term and minimizes:\n",
    "\\begin{align}\n",
    "\\frac{1}{2N}\\sum_i ||y_i-w^t x_i -b||^2 + \\alpha||w||_1\n",
    "\\end{align}\n",
    "\n",
    "We'll be using the `Lasso`solver from sklearn ([more details](http://scikit-learn.org/stable/modules/generated/sklearn.linear_model.Lasso.html))."
   ]
  },
  {
   "cell_type": "markdown",
   "metadata": {
    "deletable": false,
    "editable": false,
    "nbgrader": {
     "cell_type": "markdown",
     "checksum": "ffe29edc4fe83933884438a7e197f24e",
     "grade": false,
     "grade_id": "q14",
     "locked": true,
     "schema_version": 3,
     "solution": false,
     "task": false
    }
   },
   "source": [
    "Complete the Lasso class in the same way as you completed the Ridge class. We'll use the solver from sklearn module `Lasso`\n",
    "([read more](https://scikit-learn.org/stable/modules/generated/sklearn.linear_model.Lasso.html)).\n",
    "- 1.4 **[5 points]** Complete the `Lasso` class in a similar way to `Ridge`\n",
    "\n",
    "Hint: you're allowed to use inheritance"
   ]
  },
  {
   "cell_type": "code",
   "execution_count": null,
   "metadata": {
    "deletable": false,
    "nbgrader": {
     "cell_type": "code",
     "checksum": "e22df0c0f5fff33c0c5ae442b0576d22",
     "grade": true,
     "grade_id": "a14",
     "locked": false,
     "points": 5,
     "schema_version": 3,
     "solution": true,
     "task": false
    },
    "pycharm": {
     "name": "#%%\n"
    }
   },
   "outputs": [],
   "source": [
    "class Lasso:\n",
    "    def __init__(self, alpha):\n",
    "        \"\"\"\n",
    "        Parameters\n",
    "        ----------\n",
    "        alpha:  regularization parameter\n",
    "        \"\"\"\n",
    "        self.alpha = alpha\n",
    "        self.coefficients = None  # Coefficients w\n",
    "        self.intercept = None  # Intercept b\n",
    "        # Workspace 1.4\n",
    "        # Define self._model using the right linear model\n",
    "        #BEGIN \n",
    "        # code here\n",
    "        #END\n",
    "    def fit(self, X, y):\n",
    "        \"\"\"\n",
    "        Fit the ridge model, train it using the provided data\n",
    "        Calculate the number of non-zero coefficients in the model weights.\n",
    "        :param X: training features (num_samples, n_features)\n",
    "        :param y: target values (num_samples)\n",
    "        :return: num_nonzero_coeff : number of non-zero coefficients in the model weights\n",
    "        \"\"\"\n",
    "\n",
    "        #Workspace 1.4.a\n",
    "        # num_nonzero_coeff = 0\n",
    "        #TODO: Fit the Lasso model, save the coefficients and intercept and return number of non-zero coefficients\n",
    "        #BEGIN \n",
    "        # code here\n",
    "        #END\n",
    "        return num_nonzero_coeff\n",
    "\n",
    "    def evaluate(self, test_x, test_y):\n",
    "        \"\"\"\n",
    "        Compute Root Mean square error (RMSE) between test_y and the prediction from test_x\n",
    "        :param test_x: shape (num_samples, num_features)\n",
    "        :param test_y: shape (num_samples,)\n",
    "        :return: Float\n",
    "        \"\"\"\n",
    "        #Workspace 1.4.b\n",
    "        #TODO: predict based on the test features and return the mean_squared_error        \n",
    "        #BEGIN \n",
    "        # code here\n",
    "        #END\n",
    "        return mean_squared_error\n",
    "\n",
    "    @staticmethod\n",
    "    def rmse(y_true, y_hat):\n",
    "        \"\"\"\n",
    "        Compute RMSE between two 1d-arrays\n",
    "        :param y_true: shape (num_samples,)\n",
    "        :param y_hat: (num_samples,)\n",
    "        :return: Float\n",
    "        \"\"\"\n",
    "        rmse = 0\n",
    "        #Workspace 1.4.c\n",
    "        #BEGIN \n",
    "        # code here\n",
    "        #END\n",
    "        return rmse"
   ]
  },
  {
   "cell_type": "code",
   "execution_count": null,
   "metadata": {},
   "outputs": [],
   "source": [
    "# Tests cell\n",
    "tests.test_lasso_coef(Lasso, normalize=None)\n",
    "tests.test_lasso_intercept(Lasso, normalize=None)"
   ]
  },
  {
   "cell_type": "markdown",
   "metadata": {
    "deletable": false,
    "editable": false,
    "nbgrader": {
     "cell_type": "markdown",
     "checksum": "372b7242cd8fd753d77c3f411baba76d",
     "grade": false,
     "grade_id": "q15",
     "locked": true,
     "schema_version": 3,
     "solution": false,
     "task": false
    },
    "pycharm": {
     "name": "#%% md\n"
    }
   },
   "source": [
    "- 1.5 **[5 points]** On the House Prices dataset, produce 2 plots using `Lasso` :\n",
    "  - The number non-zero coefficients versus $\\log_{10}(\\alpha)$ (logarithmic scale in x-axis)\n",
    "  - Root Mean Squared Error (RMSE) on test set versus $\\log_{10}(\\alpha)$ (logarithmic scale in x-axis)\n",
    "\n",
    " Use the values of `alpha` provided below"
   ]
  },
  {
   "cell_type": "code",
   "execution_count": null,
   "metadata": {
    "deletable": false,
    "nbgrader": {
     "cell_type": "code",
     "checksum": "d66d5eea5cc0bb69154a09df0ebd7760",
     "grade": true,
     "grade_id": "a15",
     "locked": false,
     "points": 5,
     "schema_version": 3,
     "solution": true,
     "task": false
    },
    "pycharm": {
     "name": "#%%\n"
    }
   },
   "outputs": [],
   "source": [
    "alphas = np.power(10, np.linspace(-4, 0.0, 10))\n",
    "# Workspace 1.5\n",
    "#BEGIN \n",
    "# code here\n",
    "#END"
   ]
  },
  {
   "cell_type": "markdown",
   "metadata": {
    "deletable": false,
    "editable": false,
    "nbgrader": {
     "cell_type": "markdown",
     "checksum": "718c22f6e33a7f4dc3f77cfa39b8a60d",
     "grade": false,
     "grade_id": "q16",
     "locked": true,
     "schema_version": 3,
     "solution": false,
     "task": false
    }
   },
   "source": [
    "- 1.6 **[5 points]** Compare the two algorithms on each data set: \n",
    "    - Compare the number of non-zero coordinates of Ridge vs Lasso and their RMSE on each dataset.\n",
    "    - Which type of regression is better for each dataset? "
   ]
  },
  {
   "cell_type": "markdown",
   "metadata": {
    "deletable": false,
    "nbgrader": {
     "cell_type": "markdown",
     "checksum": "a2bad8ffbb8b1ebaae8ed85232944c30",
     "grade": true,
     "grade_id": "a16",
     "locked": false,
     "points": 5,
     "schema_version": 3,
     "solution": true,
     "task": false
    }
   },
   "source": [
    "#### Workspace 1.6\n",
    "%BEGIN\n",
    "\n",
    "% YOUR ANSWER HERE\n",
    "\n",
    "%END"
   ]
  },
  {
   "cell_type": "markdown",
   "metadata": {
    "deletable": false,
    "editable": false,
    "nbgrader": {
     "cell_type": "markdown",
     "checksum": "d51a9e51b3656d642e7e758f341ce2e5",
     "grade": false,
     "grade_id": "elastic",
     "locked": true,
     "schema_version": 3,
     "solution": false,
     "task": false
    },
    "pycharm": {
     "name": "#%% md\n"
    }
   },
   "source": [
    "Elastic Net try to combine both types of regularization to get the best of both worlds by minimizing:\n",
    "\n",
    "\\begin{align}\n",
    "\\frac{1}{2N} \\sum_i ||y_i - w^Tx_i -b||^2_2 + \\alpha\\beta||w||_1 + \\frac{\\alpha}{2}(1 - \\beta)||w||^2_2\n",
    "\\end{align}\n",
    "\n",
    "where $\\beta\\in[0,1]$ is the $l_1$ ratio ($\\beta=1$ for Lasso and $\\beta=0$ for Ridge).\n",
    "\n",
    "We'll use the solver from sklearn module `ElasticNet`\n",
    "([read more](https://scikit-learn.org/stable/modules/generated/sklearn.linear_model.ElasticNet.html)).\n",
    "`Elastic` class inherits from `Lasso` since their implementation is the same. The only difference is how we define `Elastic._model`"
   ]
  },
  {
   "cell_type": "code",
   "execution_count": null,
   "metadata": {
    "pycharm": {
     "name": "#%%\n"
    }
   },
   "outputs": [],
   "source": [
    "class Elastic(Lasso):\n",
    "    def __init__(self, alpha, beta=0.5):\n",
    "        super(Elastic, self).__init__(alpha)\n",
    "        \"\"\"\n",
    "        Parameters\n",
    "        ----------\n",
    "        alpha:  First regularization parameter\n",
    "        beta:   Second regularization parameter (default set to 0.5)        \n",
    "        \"\"\"\n",
    "        self._model = linear_model.ElasticNet(alpha=alpha, l1_ratio=beta, fit_intercept=True)"
   ]
  },
  {
   "cell_type": "markdown",
   "metadata": {
    "deletable": false,
    "editable": false,
    "nbgrader": {
     "cell_type": "markdown",
     "checksum": "0dee02a051fdba34ec4e7349520d1d33",
     "grade": false,
     "grade_id": "q17",
     "locked": true,
     "schema_version": 3,
     "solution": false,
     "task": false
    },
    "pycharm": {
     "name": "#%% md\n"
    }
   },
   "source": [
    "- 1.7 **[5 points]** For each of the datasets, produce 2 plots using `Elastic` :\n",
    "  - The number non-zero coefficients versus $\\log_{10}(\\alpha)$ (logarithmic scale in x-axis)\n",
    "  - Root Mean Squared Error (RMSE) on test set versus $\\log_{10}(\\alpha)$ (logarithmic scale in x-axis)\n",
    "\n",
    " Use the values of `alpha` provided below"
   ]
  },
  {
   "cell_type": "code",
   "execution_count": null,
   "metadata": {
    "deletable": false,
    "nbgrader": {
     "cell_type": "code",
     "checksum": "fc3463d2b744c30cc0d9cd96f7432be4",
     "grade": true,
     "grade_id": "a17",
     "locked": false,
     "points": 5,
     "schema_version": 3,
     "solution": true,
     "task": false
    },
    "pycharm": {
     "name": "#%%\n"
    }
   },
   "outputs": [],
   "source": [
    "alphas = np.power(10, np.linspace(-4, 0.0, 20))\n",
    "# Workspace 1.7\n",
    "#BEGIN \n",
    "# code here\n",
    "#END"
   ]
  },
  {
   "cell_type": "markdown",
   "metadata": {
    "deletable": false,
    "editable": false,
    "nbgrader": {
     "cell_type": "markdown",
     "checksum": "1214095fe28b7e07d3a79e2042789232",
     "grade": false,
     "grade_id": "q18",
     "locked": true,
     "schema_version": 3,
     "solution": false,
     "task": false
    }
   },
   "source": [
    "1.8 **[5 points]** What are the pros and cons of each of three types of regressions we have implemented?"
   ]
  },
  {
   "cell_type": "markdown",
   "metadata": {
    "deletable": false,
    "nbgrader": {
     "cell_type": "markdown",
     "checksum": "8189115119bd0f560d97df7debf398ab",
     "grade": true,
     "grade_id": "a18",
     "locked": false,
     "points": 5,
     "schema_version": 3,
     "solution": true,
     "task": false
    },
    "pycharm": {
     "name": "#%% md\n"
    }
   },
   "source": [
    "#### Workspace 1.8\n",
    "%BEGIN\n",
    "\n",
    "% YOUR ANSWER HERE\n",
    "\n",
    "%END"
   ]
  },
  {
   "cell_type": "markdown",
   "metadata": {
    "deletable": false,
    "editable": false,
    "nbgrader": {
     "cell_type": "markdown",
     "checksum": "d96c858972244ddd05521fb48f1e42b6",
     "grade": false,
     "grade_id": "logreg",
     "locked": true,
     "schema_version": 3,
     "solution": false,
     "task": false
    }
   },
   "source": [
    "***\n",
    "## Problem 2: Logistic Regression for Binary Classification (38 points)\n",
    "\n",
    "The second part of this assignment will be dealing with Logistic Regression.\n",
    "While the name \"regression\" suggests otherwise, Logistic Regression is actually used for classification.\n",
    "It's a regression problem because the targets are the continuous likelihoods of the outcomes.\n",
    "\n",
    "Our dataset is the same one we used in Problem Set 1. Our class label is `0` if the digit is even and 0 otherwise."
   ]
  },
  {
   "cell_type": "code",
   "execution_count": null,
   "metadata": {
    "pycharm": {
     "name": "#%%\n"
    }
   },
   "outputs": [],
   "source": [
    "binary_digits = data.BinaryDigits()"
   ]
  },
  {
   "cell_type": "markdown",
   "metadata": {
    "deletable": false,
    "editable": false,
    "nbgrader": {
     "cell_type": "markdown",
     "checksum": "b100fdee7106b4d181cde87f3fedb309",
     "grade": false,
     "grade_id": "NLL",
     "locked": true,
     "schema_version": 3,
     "solution": false,
     "task": false
    },
    "pycharm": {
     "name": "#%% md\n"
    }
   },
   "source": [
    "Using the same notations from Problem 1 (this time with discrete targets $y_i$ in {0, 1}), _Logistic Regression_ is about minimizing the **N**egative **L**og **L**ikelihood objective defined as:\n",
    "\\begin{align}\n",
    "\\textrm{NLL}(\\mathbf{w}) = -\\frac{1}{N}\\sum_{i=1}^N \\left[y_i \\log \\sigma(\\mathbf{w}^T{\\mathbf{x_i}}) + (1-y_i)\\log(1 - \\sigma(\\mathbf{w}^T\\mathbf{x_i}))\\right]\n",
    "\\end{align}\n",
    "\n",
    "You might be wondering: where is the intercept?\n",
    "We're including the intercept in $(\\mathbf x_i)_i$ since we'll be adding a constant feature $\\mathbf x_{i,0} = 1$ to all samples $(\\mathbf x_i)_i$.\n",
    "We will call it the zero-th column and the intercept will be $\\mathbf{w}_0$.\n",
    "This zero-th column will be appended to the training samples in `fit` method and the test samples in `predict` method. $\\sigma$ is the sigmoid function seen in class.\n",
    "\n",
    "The gradient of **NLL** w.r.t $\\mathbf{w}$ is:\n",
    "\n",
    "\\begin{align}\n",
    "\\frac{\\partial \\textrm{NLL}}{\\partial \\mathbf{w}} = \\frac{1}{N} \\sum_i \\left[\\sigma(\\mathbf{w}^Tx_i)-y_i)\\right]x_i\n",
    "\\end{align}"
   ]
  },
  {
   "cell_type": "markdown",
   "metadata": {
    "deletable": false,
    "editable": false,
    "nbgrader": {
     "cell_type": "markdown",
     "checksum": "c14e5367e93c2ffc2bcebd428b08b4f2",
     "grade": false,
     "grade_id": "q21_25",
     "locked": true,
     "schema_version": 3,
     "solution": false,
     "task": false
    },
    "pycharm": {
     "name": "#%% md\n"
    }
   },
   "source": [
    "- 2.1 **[4 points]** Complete the `sigmoid` function to return the sigmoid values $\\sigma(\\mathbf{w}^T{\\mathbf{x_i}})$ given features array. You have to truncate the score $\\mathbf{w}^T{\\mathbf{x_i}}$ to the interval $[-25, 25]$ to avoid overflow of `np.exp`\n",
    "\n",
    "\n",
    "- 2.2 **[4 points]** Finish the `compute_gradient` function to return the derivative of the cost w.r.t. the weights\n",
    "\n",
    "- 2.3 **[4 points]** Finish the `batch_update` function so that it performs batch gradient descent using the provided batch data\n",
    "\n",
    "- 2.4 **[6 points]** Finish the `fit` function so that it performs several training epochs and returns the Recall score on the validation data at the end of each epoch. Initialize $\\mathbf{w}$ so that $\\mathbf{w}_j = \\frac{1}{d}$\n",
    "\n",
    "- 2.5 **[3 points]** Finish the `predict` method to return the predicted labels (either 0 or 1)\n"
   ]
  },
  {
   "cell_type": "code",
   "execution_count": null,
   "metadata": {
    "deletable": false,
    "nbgrader": {
     "cell_type": "code",
     "checksum": "abefc183e73a7d2f1bc9d225c04f370b",
     "grade": true,
     "grade_id": "a21_25",
     "locked": false,
     "points": 21,
     "schema_version": 3,
     "solution": true,
     "task": false
    },
    "pycharm": {
     "name": "#%%\n"
    }
   },
   "outputs": [],
   "source": [
    "from sklearn.metrics import recall_score\n",
    "\n",
    "class LogisticRegression:\n",
    "\n",
    "    def __init__(self, eta=0.1, alpha=0):\n",
    "        \"\"\"\n",
    "        Create a logistic regression classifier\n",
    "        :param eta: Learning rate\n",
    "        :param alpha: We will use this parameter later (IN BONUS)\n",
    "        \"\"\"\n",
    "\n",
    "        self.w = None  # uninitialized w\n",
    "        self.eta = eta  # learning rate\n",
    "        self.alpha = alpha  # regularization / penalty term (USED IN BONUS)\n",
    "\n",
    "    def sigmoid(self, x, threshold=25.0):\n",
    "        \"\"\"\n",
    "\n",
    "        :param x: features array of shape (num_samples, num_features + 1) (zero-th column appended)\n",
    "        :param threshold: the truncating threshold for np.exp, default to 25.0\n",
    "        :return: sigmoid values , of shape (num_samples,)\n",
    "        \"\"\"\n",
    "        # Workspace 2.1\n",
    "        # TO DO: Complete this function to return the output of applying the sigmoid function to the score\n",
    "        #BEGIN \n",
    "        # code here\n",
    "        #END\n",
    "\n",
    "    def compute_gradient(self, x, y):\n",
    "        \"\"\"\n",
    "        Return the derivative of the cost w.r.t to the weights. Don't forget to average by batch_size\n",
    "        :param x:  Feature vector, shape (batch_size, num_features +1), with zero-th column appended\n",
    "        :param y: real binary class label, shape (batch_size)\n",
    "        :return: gradient of shape (num_features + 1,)\n",
    "        \"\"\"\n",
    "\n",
    "        # Workspace 2.2\n",
    "        # TO DO: Finish this function to compute the gradient\n",
    "        gradient = np.zeros((x.shape[1], ))\n",
    "        #BEGIN \n",
    "        # code here\n",
    "        #END\n",
    "        return gradient\n",
    "\n",
    "    def batch_update(self, batch_x, batch_y):\n",
    "        \"\"\"\n",
    "        Single self.w update using the batch.\n",
    "        :param batch_x: array of features (includes the constant feature at column 0), of shape (batch_size, num_features + 1)\n",
    "        :param batch_y: array of target values, shape (batch_size,)\n",
    "        :return: nothing\n",
    "        \"\"\"\n",
    "\n",
    "        # Workspace 2.3\n",
    "        #BEGIN \n",
    "        # code here\n",
    "        #END\n",
    "\n",
    "    def fit(self, X, y, epochs=1, batch_size=1, validation_X=None, validation_y=None):\n",
    "        \"\"\"\n",
    "        train the LogisticRegression\n",
    "        :param X: training features, shape (num_samples, num_features)\n",
    "        :param y: training labels, shape (num_samples,)\n",
    "        :param epochs: number of epochs, integer\n",
    "        :param batch_size: size of batch for gradient update, 1 for SGD\n",
    "        :param validation_X: validation rows, should default to training data if not provided\n",
    "        :param validation_y: validation labels\n",
    "        :return: recall score at the end of each epoch on validation data\n",
    "        \"\"\"\n",
    "\n",
    "        if validation_X is None:\n",
    "            validation_X, validation_y = X, y\n",
    "        self.w = np.ones(X.shape[1] + 1) / (X.shape[1] + 1)\n",
    "        metrics = []\n",
    "        # Workspace  2.4\n",
    "        # TO DO: Process X to append the zero-th constant column and call self.optimize\n",
    "        # TO DO: Compute average recall on the validation data at the end of each epoch\n",
    "        # HINT: make sure to initialize w\n",
    "        #BEGIN \n",
    "        # code here\n",
    "        #END\n",
    "        return np.array(metrics)\n",
    "\n",
    "    def predict(self, X):\n",
    "        \"\"\"\n",
    "        :param X: features array, shape (num_samples, num_features) (without the constant column)\n",
    "        :return: predicted binary label, shape (num_samples,)\n",
    "        \"\"\"\n",
    "        # Workspace 2.5\n",
    "        y_hat = np.zeros((X.shape[0],))\n",
    "        X = np.concatenate([np.ones((X.shape[0], 1)), X], axis=1)  # We append zero-th column\n",
    "        #BEGIN \n",
    "        # code here\n",
    "        #END\n",
    "        return y_hat\n",
    "\n",
    "    def optimize(self, X, y, batch_size):\n",
    "        \"\"\"\n",
    "        Perform one epoch batch gradient on shuffled data\n",
    "        :param X: np.array of shape (num_samples, num_features +1), The training data with zero-th column appended\n",
    "        :param y: target values of shape (num_samples,)\n",
    "        :param batch_size: batch_size of the batch_update\n",
    "        :return: None\n",
    "        \"\"\"\n",
    "        indices = np.random.permutation(len(X))\n",
    "        for i in range(0, X.shape[0], batch_size):\n",
    "            batch_x = X[indices[i:i + batch_size]]\n",
    "            batch_y = y[indices[i:i + batch_size]]\n",
    "            self.batch_update(batch_x, batch_y)"
   ]
  },
  {
   "cell_type": "markdown",
   "metadata": {
    "deletable": false,
    "editable": false,
    "nbgrader": {
     "cell_type": "markdown",
     "checksum": "5b966586e4d91d8169a392bbd579bc05",
     "grade": false,
     "grade_id": "q26",
     "locked": true,
     "schema_version": 3,
     "solution": false,
     "task": false
    },
    "pycharm": {
     "name": "#%% md\n"
    }
   },
   "source": [
    "After completing the class above, loop over the training data and perform batch training with `batch_size=1`(Stochastic Gradient Descent) for 50 epochs, and different values of eta ( see `etas`). Train your model and do the following:\n",
    "\n",
    "- 2.6 **[5 points]** Plot the recall trend for the different values of eta on the training data (epoch vs recall). (reset random seed for each loop to mitigate the randomness effect)\n",
    "\n",
    "Use the values provided below"
   ]
  },
  {
   "cell_type": "code",
   "execution_count": null,
   "metadata": {
    "deletable": false,
    "nbgrader": {
     "cell_type": "code",
     "checksum": "7bc252f63a92c3e679b3a65fd6fea4be",
     "grade": true,
     "grade_id": "a26",
     "locked": false,
     "points": 5,
     "schema_version": 3,
     "solution": true,
     "task": false
    }
   },
   "outputs": [],
   "source": [
    "etas = [.001, .01, 0.1, 1]\n",
    "\n",
    "for eta in etas:\n",
    "    np.random.seed(42)  # Reset randomness\n",
    "    # Workspace 2.6\n",
    "    #BEGIN \n",
    "    # code here\n",
    "    #END\n",
    "plt.legend()\n",
    "plt.show()"
   ]
  },
  {
   "cell_type": "markdown",
   "metadata": {
    "deletable": false,
    "editable": false,
    "nbgrader": {
     "cell_type": "markdown",
     "checksum": "81ea96b6a187d0092f518679285de42b",
     "grade": false,
     "grade_id": "q27",
     "locked": true,
     "schema_version": 3,
     "solution": false,
     "task": false
    }
   },
   "source": [
    "- 2.7 **[3 points]** Plot the recall trend for the different values of eta on the test data.\n",
    "(reset random seed for each loop to mitigate the randomness effect)"
   ]
  },
  {
   "cell_type": "code",
   "execution_count": null,
   "metadata": {
    "deletable": false,
    "nbgrader": {
     "cell_type": "code",
     "checksum": "78b735e376f7f344b226eea2e1709865",
     "grade": true,
     "grade_id": "a27",
     "locked": false,
     "points": 3,
     "schema_version": 3,
     "solution": true,
     "task": false
    }
   },
   "outputs": [],
   "source": [
    "etas = [.0001, .001, .01, 1]\n",
    "\n",
    "for eta in etas:\n",
    "    np.random.seed(42)\n",
    "    # Workspace 2.7\n",
    "    #BEGIN \n",
    "    # code here\n",
    "    #END\n",
    "plt.legend()\n",
    "plt.show()"
   ]
  },
  {
   "cell_type": "markdown",
   "metadata": {
    "deletable": false,
    "editable": false,
    "nbgrader": {
     "cell_type": "markdown",
     "checksum": "4c0f210c54cde027e22a52e64f89cb05",
     "grade": false,
     "grade_id": "q28",
     "locked": true,
     "schema_version": 3,
     "solution": false,
     "task": false
    }
   },
   "source": [
    "This time we want to analyze the effect of varying the batch size. We fix `eta=0.01` and `epochs=50` and we want to\n",
    "examine the recall on the test set at the end of the training.\n",
    "\n",
    "- 2.8 **[5 points]** Produce a plot of the recall on the test data at the end of the training as a function of the batch size. Reset the random generator for each iteration.\n",
    "\n",
    "Use batch sizes provided below"
   ]
  },
  {
   "cell_type": "code",
   "execution_count": null,
   "metadata": {
    "deletable": false,
    "nbgrader": {
     "cell_type": "code",
     "checksum": "c62ca17495e7d53b44fbd8947ec175ea",
     "grade": true,
     "grade_id": "a28",
     "locked": false,
     "points": 5,
     "schema_version": 3,
     "solution": true,
     "task": false
    }
   },
   "outputs": [],
   "source": [
    "batch_sizes = list(range(1, 40))\n",
    "recalls = []\n",
    "\n",
    "for b_size in batch_sizes:\n",
    "    np.random.seed(42)\n",
    "    # Workspace 2.8\n",
    "    #BEGIN \n",
    "    # code here\n",
    "    #END\n",
    "plt.plot(batch_sizes, recalls)\n",
    "plt.show()"
   ]
  },
  {
   "cell_type": "markdown",
   "metadata": {
    "deletable": false,
    "editable": false,
    "nbgrader": {
     "cell_type": "markdown",
     "checksum": "58878083f24fce2781565a24eef87013",
     "grade": false,
     "grade_id": "q29",
     "locked": true,
     "schema_version": 3,
     "solution": false,
     "task": false
    }
   },
   "source": [
    "2.9 **[4 points]** How does the learning rate (eta) and the number of epochs affect the performance of the classifier."
   ]
  },
  {
   "cell_type": "markdown",
   "metadata": {
    "deletable": false,
    "nbgrader": {
     "cell_type": "markdown",
     "checksum": "946c1a4e9a81a5b2edcb22fce2a4416b",
     "grade": true,
     "grade_id": "a29",
     "locked": false,
     "points": 4,
     "schema_version": 3,
     "solution": true,
     "task": false
    }
   },
   "source": [
    "#### Workspace 2.9\n",
    "\n",
    "%BEGIN\n",
    "\n",
    "% YOUR ANSWER HERE\n",
    "\n",
    "%END"
   ]
  },
  {
   "cell_type": "markdown",
   "metadata": {
    "deletable": false,
    "editable": false,
    "nbgrader": {
     "cell_type": "markdown",
     "checksum": "4a1953ba26063071736a252b65673aa6",
     "grade": false,
     "grade_id": "q210",
     "locked": true,
     "schema_version": 3,
     "solution": false,
     "task": false
    }
   },
   "source": [
    "2.10 (**Bonus**) **[5 points]** Since we're done with the binary regression, we will try to add Ridge regularization:\n",
    "\\begin{align}\n",
    "\\textrm{NLL}(w) = -\\frac{1}{N}\\sum_{i=1}^N \\left[y_i \\log \\sigma(\\mathbf{w}^T{x_i}) + (1-y_i)\\log(1 - \\sigma(\\mathbf{w}^Tx_i))\\right] + \\alpha {||\\mathbf{w}||^2}_{\\geq1}\n",
    "\\end{align}\n",
    "\n",
    "This is exactly what we will be using the `alpha` parameter in `LogisticRegression` for.\n",
    "First, write the gradient formula in the cell below and edit your `compute_gradient` to account for the regularization term. Note that the regularization $||w||^2$ does not apply to the intercept $\\mathbf{w}_0$"
   ]
  },
  {
   "cell_type": "markdown",
   "metadata": {
    "deletable": false,
    "nbgrader": {
     "cell_type": "markdown",
     "checksum": "af5e14fa4839a3d3718072412b770079",
     "grade": true,
     "grade_id": "a210",
     "locked": false,
     "points": 0,
     "schema_version": 3,
     "solution": true,
     "task": false
    }
   },
   "source": [
    "#### Workspace 2.10\n",
    "\n",
    "%BEGIN\n",
    "\n",
    "% YOUR ANSWER HERE\n",
    "\n",
    "%END\n"
   ]
  },
  {
   "cell_type": "markdown",
   "metadata": {
    "deletable": false,
    "editable": false,
    "nbgrader": {
     "cell_type": "markdown",
     "checksum": "dcd8b5ef7906c475100b2058ac694b9d",
     "grade": false,
     "grade_id": "feats",
     "locked": true,
     "schema_version": 3,
     "solution": false,
     "task": false
    }
   },
   "source": [
    "## Problem 3: Feature Engineering (22 points)\n",
    "So far in all previous problems, we didn't have to worry about creating the features, that is our `X`. We always relied on having it handed to us.\n",
    "In practical machine learning problems, however, you will have to do some feature engineering yourself in order to get the features matrix `X` before feeding it to the classifier.\n",
    "\n",
    "For this problem you will work on extracting features from raw data. You will then use scikit-learn [`SGDClassifier`](https://scikit-learn.org/stable/modules/generated/sklearn.linear_model.SGDClassifier.html) to complete the classification task.\n",
    "\n",
    "We will start by importing some libraries and loading our data which contains 2,000 reviews from IMDB along with their sentiment, either positive (`1`) or negative (`0`).\n"
   ]
  },
  {
   "cell_type": "code",
   "execution_count": null,
   "metadata": {},
   "outputs": [],
   "source": [
    "import nltk\n",
    "from nltk.tokenize import word_tokenize\n",
    "from sklearn.feature_extraction.text import CountVectorizer, TfidfVectorizer\n",
    "from sklearn.linear_model import SGDClassifier\n",
    "from sklearn.base import BaseEstimator, TransformerMixin\n",
    "from sklearn.pipeline import FeatureUnion, Pipeline\n",
    "from sklearn.metrics import accuracy_score\n",
    "from sklearn.preprocessing import StandardScaler\n",
    "\n",
    "nltk.download('punkt')"
   ]
  },
  {
   "cell_type": "code",
   "execution_count": null,
   "metadata": {},
   "outputs": [],
   "source": [
    "imdb = data.IMDB()\n",
    "print(f\"[Example: {imdb.X_train[1][:157]}], label:{imdb.y_train[1]}\")"
   ]
  },
  {
   "attachments": {
    "Pipeline.png": {
     "image/png": "[encoded data removed]"
    },
    "Union.png": {
     "image/png": "[encoded data removed]"
    }
   },
   "cell_type": "markdown",
   "metadata": {
    "deletable": false,
    "editable": false,
    "nbgrader": {
     "cell_type": "markdown",
     "checksum": "7057b40d0c8a47d9e50156f4c8d4995b",
     "grade": false,
     "grade_id": "pipes",
     "locked": true,
     "schema_version": 3,
     "solution": false,
     "task": false
    }
   },
   "source": [
    "Let's call _Featurizer_ any class that is implemented like `StandardScaler` and our initial `MinMaxScaler`. It has:\n",
    "- a `fit` method that computes any necessary statistics based on our training data (like mean, min or max)\n",
    "- a `transform` method that generates new features based on given input and the pre-computed statistics\n",
    "- a `fit_transform` method that combines the two previous methods\n",
    "\n",
    "We can also combine multiple _Featurizers_ either in a series using [`Pipeline`](https://scikit-learn.org/stable/modules/generated/sklearn.pipeline.Pipeline.html):\n",
    "![Pipeline.png](attachment:Pipeline.png)\n",
    "\n",
    "Or in parallel using [`FeatureUnion`](https://scikit-learn.org/stable/modules/generated/sklearn.pipeline.FeatureUnion.html)\n",
    "![Union.png](attachment:Union.png)\n",
    "\n",
    "`Pipeline` and `FeatureUnion` are also _Featurizers_.\n",
    "\n",
    "Both `Pipeline` and `FeatureUnion` take a list of tuples formated as `(features_name: str, featurizer_instance: object)`."
   ]
  },
  {
   "cell_type": "markdown",
   "metadata": {
    "deletable": false,
    "editable": false,
    "nbgrader": {
     "cell_type": "markdown",
     "checksum": "6303c20be33b8d9539b9b5d2972f702c",
     "grade": false,
     "grade_id": "q31",
     "locked": true,
     "schema_version": 3,
     "solution": false,
     "task": false
    }
   },
   "source": [
    "Let's start by extracting some simple features such as the number of sentences in each review.\n",
    "To do that, we will create a custom scikit-learn feature transformer which will take data as input and returns a feature vector as output.\n",
    "\n",
    "The feature transformer class has a constructor, a `fit` method. The constructor can be used to store any words or other data that we might need during the feature extraction process.\n",
    "Feature transformers usually don't need to be fitted, so we will leave that as it is. Most of the work will be done inside the `transform` function.\n",
    "\n",
    "- 3.1 **[3 points]** Complete the `SentenceCounter` class to extract the number of sentences in each review. \n",
    "- 3.2 **[3 points]** Complete the `PunctCounter` class to count the number of \"!\" and \"?\" in each review\n",
    "\n"
   ]
  },
  {
   "cell_type": "code",
   "execution_count": null,
   "metadata": {
    "deletable": false,
    "nbgrader": {
     "cell_type": "code",
     "checksum": "cef27ffef4fd6e1f5c7454edc6f5d978",
     "grade": true,
     "grade_id": "a31",
     "locked": false,
     "points": 6,
     "schema_version": 3,
     "solution": true,
     "task": false
    }
   },
   "outputs": [],
   "source": [
    "class SentenceCounter(BaseEstimator, TransformerMixin):\n",
    "    \"\"\"\n",
    "    A custom feature transformer to extract the number of sentences\n",
    "    \"\"\"\n",
    "    def fit(self, data):\n",
    "        return self\n",
    "\n",
    "    def transform(self, data):\n",
    "        \"\"\"\n",
    "        :param data: raw data, of length (num_samples,), where each element is a string \n",
    "        :return: features array of shape (num_samples, 1)\n",
    "        \"\"\"\n",
    "        features = np.zeros((len(data), 1))\n",
    "        # Workspace 3.1\n",
    "        # TODO: Transform reviews into the feature (number of sentences)  \n",
    "        #BEGIN \n",
    "        # code here\n",
    "        #END\n",
    "        return features\n",
    "\n",
    "    def fit_transform(self, X):\n",
    "        self.fit(X)\n",
    "        return self.transform(X)\n",
    "\n",
    "\n",
    "class PunctCounter(SentenceCounter):\n",
    "    \"\"\"\n",
    "    A custom feature transformer to extract the number of \"!\" and \"?\"\n",
    "    \"\"\"\n",
    "\n",
    "    def transform(self, data):\n",
    "        \"\"\"\n",
    "        :param data: raw data, of length (num_samples,), where each element is a string \n",
    "        :return: features array of shape (num_samples, 1)\n",
    "        \"\"\"\n",
    "        features = np.zeros((len(data), 1))\n",
    "        # Workspace 3.2\n",
    "        # TODO: Transform reviews into the feature (number of \"!\" and \"?\")  \n",
    "        #BEGIN \n",
    "        # code here\n",
    "        #END\n",
    "        return features"
   ]
  },
  {
   "cell_type": "markdown",
   "metadata": {
    "deletable": false,
    "editable": false,
    "nbgrader": {
     "cell_type": "markdown",
     "checksum": "ab876eaa5368cf9006cc50754085bdff",
     "grade": false,
     "grade_id": "cell-26654177bee4455b",
     "locked": true,
     "schema_version": 3,
     "solution": false,
     "task": false
    }
   },
   "source": [
    "The `featurizer` instance below combines `FeatureUnion` and `Pipeline` operations. First, we extract the number of punctuations, then normalize the two features.\n"
   ]
  },
  {
   "cell_type": "code",
   "execution_count": null,
   "metadata": {},
   "outputs": [],
   "source": [
    "featurizer = Pipeline([(\"counts\", FeatureUnion([('sentences_count', SentenceCounter()),\n",
    "                                                ('punct_count', PunctCounter())])),\n",
    "                       (\"normalizer\", StandardScaler())])\n",
    "X_train = featurizer.fit_transform(imdb.X_train)\n",
    "X_test = featurizer.transform(imdb.X_test)\n",
    "print(f\"means:{np.mean(X_train,axis=0)}, Standard deviations:{np.std(X_train, axis=0)}\")\n",
    "print(X_train.shape, X_test.shape)"
   ]
  },
  {
   "cell_type": "markdown",
   "metadata": {
    "deletable": false,
    "editable": false,
    "nbgrader": {
     "cell_type": "markdown",
     "checksum": "5003922908712d273ad247a1a6845716",
     "grade": false,
     "grade_id": "cell-864d5304923ee7ae",
     "locked": true,
     "schema_version": 3,
     "solution": false,
     "task": false
    }
   },
   "source": [
    "Let's see how well this simple feature would help us distinguish positive reviews from negative ones. "
   ]
  },
  {
   "cell_type": "code",
   "execution_count": null,
   "metadata": {},
   "outputs": [],
   "source": [
    "# Train the classifier and find the accuracy on the test dataset\n",
    "lr = SGDClassifier(loss='log', penalty='l2', alpha=0.001, max_iter=2000, shuffle=True, verbose=0, random_state=42)\n",
    "lr.fit(X_train, imdb.y_train)\n",
    "y_pred = lr.predict(X_test)\n",
    "accuracy = accuracy_score(y_pred, imdb.y_test)\n",
    "print(\"Accuracy on testing set: \", accuracy)"
   ]
  },
  {
   "cell_type": "markdown",
   "metadata": {
    "deletable": false,
    "editable": false,
    "nbgrader": {
     "cell_type": "markdown",
     "checksum": "fe7a8ba7d8e21ca28d05fc837037a1f2",
     "grade": false,
     "grade_id": "cell-a2034f3349d06ace",
     "locked": true,
     "schema_version": 3,
     "solution": false,
     "task": false
    }
   },
   "source": [
    "Not that helpful!"
   ]
  },
  {
   "cell_type": "markdown",
   "metadata": {
    "deletable": false,
    "editable": false,
    "nbgrader": {
     "cell_type": "markdown",
     "checksum": "673a82ef9e9235cc4b821db45a0ed6eb",
     "grade": false,
     "grade_id": "q33",
     "locked": true,
     "schema_version": 3,
     "solution": false,
     "task": false
    }
   },
   "source": [
    "Well, that was expected! let's create more transformers to extract more valuable features.  \n",
    "\n",
    "- 3.3 **[4 points]** Complete the `NegativeCounter` feature transformer to extract the number of negative words (vocabulary is provided) \n",
    "\n",
    "- 3.4 **[4 points]** Complete the `PositiveCounter` feature transformer to extract the number of positive words (vocabulary is provided)\n",
    "\n",
    "HINT: Before you match the vocabulary words to the review text, use [`word_tokenize`](https://www.nltk.org/api/nltk.tokenize.html) from `nltk` to convert reviews into tokens. "
   ]
  },
  {
   "cell_type": "code",
   "execution_count": null,
   "metadata": {
    "deletable": false,
    "nbgrader": {
     "cell_type": "code",
     "checksum": "b11e20f570c7829b07b29e7528060f98",
     "grade": true,
     "grade_id": "a33",
     "locked": false,
     "points": 8,
     "schema_version": 3,
     "solution": true,
     "task": false
    }
   },
   "outputs": [],
   "source": [
    "class NegativeCounter(SentenceCounter):\n",
    "    \"\"\"\n",
    "    A custom feature transformer to extract the feature \"number of negative words\" \n",
    "    \"\"\"\n",
    "\n",
    "    def __init__(self):\n",
    "        self.neg_words = [\"second-rate\", \"violent\", \"moronic\", \"third-rate\", \"flawed\", \"juvenile\", \"boring\",\n",
    "                          \"distasteful\", \"ordinary\", \"disgusting\", \"senseless\", \"static\", \"brutal\", \"confused\",\n",
    "                          \"disappointing\", \"bloody\", \"silly\", \"tired\", \"predictable\", \"stupid\", \"uninteresting\",\n",
    "                          \"weak\", \"incredibly tiresome\", \"trite\", \"uneven\", \"cliché ridden\", \"outdated\",\n",
    "                          \"dreadful\", \"bland\", \"bad\", \"worst\", \"waste\"]\n",
    "\n",
    "    def transform(self, data):\n",
    "        \"\"\"\n",
    "        :param data: raw data\n",
    "        :return: features array of shape (n_samples, 1)\n",
    "        \"\"\"\n",
    "        features = np.zeros((len(data), 1))\n",
    "\n",
    "        # Workspace 3.3\n",
    "        # TODO: Transform reviews into the feature (number of negative words)  \n",
    "        #BEGIN \n",
    "        # code here\n",
    "        #END\n",
    "\n",
    "        return features\n",
    "\n",
    "\n",
    "class PositiveCounter(NegativeCounter):\n",
    "    \"\"\"\n",
    "    A custom feature transformer to extract the feature \"number of positive words\"\n",
    "    \"\"\"\n",
    "\n",
    "    def __init__(self):\n",
    "        self.pos_words = [\"first-rate\", \"insightful\", \"clever\", \"charming\", \"comical\", \"charismatic\", \"enjoyable\",\n",
    "                          \"uproarious\", \"original\", \"tender\", \"hilarious\", \"absorbing\", \"sensitive\", \"riveting\",\n",
    "                          \"intriguing\", \"powerful\", \"fascinating\", \"pleasant\", \"surprising\", \"dazzling\",\n",
    "                          \"imaginative\", \"legendary\", \"unpretentious\", \"love\", \"wonderful\",\n",
    "                          \"best\", \"great\", \"superb\", \"still\", \"beautiful\"]\n",
    "\n",
    "    def transform(self, data):\n",
    "        \"\"\"\n",
    "        :param data: raw data\n",
    "        :return: features array of shape (n_samples, 1)\n",
    "        \"\"\"\n",
    "        features = np.zeros((len(data), 1))\n",
    "\n",
    "        # Workspace 3.4\n",
    "        # TODO: Transform reviews into the feature (number of positive words)  \n",
    "        #BEGIN \n",
    "        # code here\n",
    "        #END\n",
    "        return features"
   ]
  },
  {
   "cell_type": "markdown",
   "metadata": {
    "deletable": false,
    "editable": false,
    "nbgrader": {
     "cell_type": "markdown",
     "checksum": "cb8eedd89d873ef9b265a8848d79761b",
     "grade": false,
     "grade_id": "q35",
     "locked": true,
     "schema_version": 3,
     "solution": false,
     "task": false
    }
   },
   "source": [
    "Let's see now how well the classifier would perform with these features that we just engineered. \n",
    "\n",
    "- 3.5 **[4 points]** Define `second_featurizer` to combine:`num_of_sentences`, `num_of_negative_words`, `num_of_positive_words`, respectively. "
   ]
  },
  {
   "cell_type": "code",
   "execution_count": null,
   "metadata": {
    "deletable": false,
    "nbgrader": {
     "cell_type": "code",
     "checksum": "57baed7e1603acf140511d79a1f00416",
     "grade": true,
     "grade_id": "a35",
     "locked": false,
     "points": 4,
     "schema_version": 3,
     "solution": true,
     "task": false
    }
   },
   "outputs": [],
   "source": [
    "# Workspace 3.5\n",
    "#BEGIN \n",
    "# code here\n",
    "#END"
   ]
  },
  {
   "cell_type": "code",
   "execution_count": null,
   "metadata": {},
   "outputs": [],
   "source": [
    "X_train = second_featurizer.fit_transform(imdb.X_train)\n",
    "X_test = second_featurizer.transform(imdb.X_test)\n",
    "print(X_train.shape, X_test.shape)\n",
    "# Train the classifier and find the accuracy on the test dataset\n",
    "lr = SGDClassifier(loss='log', penalty='l2', alpha=0.001, max_iter=2000, shuffle=True, verbose=0, random_state=42)\n",
    "lr.fit(X_train, imdb.y_train)\n",
    "y_pred = lr.predict(X_test)\n",
    "accuracy = accuracy_score(y_pred, imdb.y_test)\n",
    "print(\"Accuracy on testing set: \", accuracy)"
   ]
  },
  {
   "cell_type": "markdown",
   "metadata": {
    "deletable": false,
    "editable": false,
    "nbgrader": {
     "cell_type": "markdown",
     "checksum": "cf886b73feefb74d98d08ad2c561e362",
     "grade": false,
     "grade_id": "q36",
     "locked": true,
     "schema_version": 3,
     "solution": false,
     "task": false
    }
   },
   "source": [
    "That's an improvement! Let's try now to include `n-grams` to the list of features.\n",
    "\n",
    "`N-grams` are all combinations of n-length tokens in a given text. This can be at word level (`word n-grams`) or character level (`char n-grams`) \n",
    "\n",
    "For example, if you have the text: `\"The movie was great\"` , then for this text:\n",
    "\n",
    "- `unigrams` (`n=1`) at the word level would be `[\"The\", \"movie\", \"was\", \"great\"]` and \n",
    "- `bigrams` (`n=2`) at the word level would be `[\"The movie\", \"movie was\", \"was great\"]`\n",
    "\n",
    "and you can generalize this to `n-grams`.\n",
    "\n",
    "- 3.6 **[4 points]** Define `third_featurizer` to add include an N-hram extractor at the word level.\n",
    "\n",
    "HINT: use the scikit-learn transformer [`CountVectorizer`](\n",
    "https://scikit-learn.org/stable/modules/generated/sklearn.feature_extraction.text.CountVectorizer.html)"
   ]
  },
  {
   "cell_type": "code",
   "execution_count": null,
   "metadata": {
    "deletable": false,
    "nbgrader": {
     "cell_type": "code",
     "checksum": "94a99ae779f77049cc44c482103384e0",
     "grade": true,
     "grade_id": "a36",
     "locked": false,
     "points": 4,
     "schema_version": 3,
     "solution": true,
     "task": false
    }
   },
   "outputs": [],
   "source": [
    "third_featurizer = FeatureUnion([\n",
    "    # Workspace 3.6\n",
    "    # TODO: Add the three feature transformers from 3.5 and a fourth one to extract word n-grams of range  1 to 3\n",
    "    #BEGIN \n",
    "    # code here\n",
    "    #END\n",
    "])\n"
   ]
  },
  {
   "cell_type": "markdown",
   "metadata": {
    "deletable": false,
    "editable": false,
    "nbgrader": {
     "cell_type": "markdown",
     "checksum": "c386ca6e1c1960f5bc00610e9c72c011",
     "grade": false,
     "grade_id": "cell-abf900aeb2f7b3c1",
     "locked": true,
     "schema_version": 3,
     "solution": false,
     "task": false
    }
   },
   "source": [
    "Let's now see if adding n-grams helped boost the classifier performance. "
   ]
  },
  {
   "cell_type": "code",
   "execution_count": null,
   "metadata": {},
   "outputs": [],
   "source": [
    "X_train = third_featurizer.fit_transform(imdb.X_train)\n",
    "X_test = third_featurizer.transform(imdb.X_test)\n",
    "# Train the classifier and find the accuracy on the test dataset\n",
    "lr = SGDClassifier(loss='log', penalty='l2', alpha=0.0001, max_iter=2000, shuffle=True, verbose=0, random_state=42)\n",
    "lr.fit(X_train, imdb.y_train)\n",
    "y_pred = lr.predict(X_test)\n",
    "accuracy = accuracy_score(y_pred, imdb.y_test)\n",
    "print(\"Accuracy on testing set: \", accuracy)"
   ]
  },
  {
   "cell_type": "markdown",
   "metadata": {
    "deletable": false,
    "editable": false,
    "nbgrader": {
     "cell_type": "markdown",
     "checksum": "2c807f26c061e683860cf13e51d46486",
     "grade": false,
     "grade_id": "q47",
     "locked": true,
     "schema_version": 3,
     "solution": false,
     "task": false
    }
   },
   "source": [
    "N-grams definitely helped enhance the classifier performance!\n",
    "\n",
    "- 4.7 **(Bonus)** Try to a achieve better accuracy on IMDB dataset. You're restricted to using SGDClassifier, but you're free to tweak its parameters. You'll get 1 bonus point for each 1% accuracy above 80% that you achieve (rounded-up)!"
   ]
  },
  {
   "cell_type": "code",
   "execution_count": 1,
   "metadata": {
    "deletable": false,
    "nbgrader": {
     "cell_type": "code",
     "checksum": "cb0715e07dbab22b28b159d5f876ebd4",
     "grade": true,
     "grade_id": "a47",
     "locked": false,
     "points": 0,
     "schema_version": 3,
     "solution": true,
     "task": false
    }
   },
   "outputs": [],
   "source": [
    "# Workspace 4.7\n",
    "#BEGIN \n",
    "# code here\n",
    "#END"
   ]
  }
 ],
 "metadata": {
  "kernelspec": {
   "display_name": "Python 3 (ipykernel)",
   "language": "python",
   "name": "python3"
  },
  "language_info": {
   "codemirror_mode": {
    "name": "ipython",
    "version": 3
   },
   "file_extension": ".py",
   "mimetype": "text/x-python",
   "name": "python",
   "nbconvert_exporter": "python",
   "pygments_lexer": "ipython3",
   "version": "3.9.7"
  }
 },
 "nbformat": 4,
 "nbformat_minor": 2
}
